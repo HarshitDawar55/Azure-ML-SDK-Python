{
 "cells": [
  {
   "cell_type": "code",
   "execution_count": 1,
   "id": "e4a8ce43",
   "metadata": {},
   "outputs": [],
   "source": [
    "from azureml.core import Workspace"
   ]
  },
  {
   "cell_type": "code",
   "execution_count": 5,
   "id": "e878555c",
   "metadata": {},
   "outputs": [],
   "source": [
    "ws = Workspace.get(name = \"<Workspace Name>\",\n",
    "                   resource_group = \"<Resource Group Name>\",\n",
    "                   subscription_id = \"<Subscription ID>\")"
   ]
  },
  {
   "cell_type": "code",
   "execution_count": 9,
   "id": "1aa97eb7",
   "metadata": {},
   "outputs": [],
   "source": [
    "ws.write_config(path = \"./\", file_name = \"DP-100.json\")"
   ]
  },
  {
   "cell_type": "code",
   "execution_count": null,
   "id": "4ad85f40",
   "metadata": {},
   "outputs": [],
   "source": []
  }
 ],
 "metadata": {
  "kernelspec": {
   "display_name": "Python 3 (ipykernel)",
   "language": "python",
   "name": "python3"
  },
  "language_info": {
   "codemirror_mode": {
    "name": "ipython",
    "version": 3
   },
   "file_extension": ".py",
   "mimetype": "text/x-python",
   "name": "python",
   "nbconvert_exporter": "python",
   "pygments_lexer": "ipython3",
   "version": "3.7.11"
  }
 },
 "nbformat": 4,
 "nbformat_minor": 5
}
