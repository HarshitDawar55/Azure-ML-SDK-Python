{
 "cells": [
  {
   "cell_type": "markdown",
   "id": "f54bdea9",
   "metadata": {},
   "source": [
    "# Using an already existing Workspace in Azure ML by `Mr. Harshit Dawar!`"
   ]
  },
  {
   "cell_type": "code",
   "execution_count": 1,
   "id": "e4a8ce43",
   "metadata": {},
   "outputs": [],
   "source": [
    "# Importing the workspaces class\n",
    "from azureml.core import Workspace"
   ]
  },
  {
   "cell_type": "code",
   "execution_count": 5,
   "id": "e878555c",
   "metadata": {},
   "outputs": [],
   "source": [
    "# Mentioning all the important stuff, replace the placeholders by the values that are required.\n",
    "\n",
    "ws = Workspace.get(name = \"<Workspace Name>\",\n",
    "                   resource_group = \"<Resource Group Name>\",\n",
    "                   subscription_id = \"<Subscription ID>\")"
   ]
  },
  {
   "cell_type": "code",
   "execution_count": 9,
   "id": "b707a399",
   "metadata": {},
   "outputs": [],
   "source": [
    "# Writing the config File\n",
    "\n",
    "ws.write_config(path = \"./\", file_name = \"DP-100.json\")"
   ]
  },
  {
   "cell_type": "markdown",
   "id": "bd495f9b",
   "metadata": {},
   "source": [
    "# Congratulations, you have learned how to use an existing workspace!"
   ]
  }
 ],
 "metadata": {
  "kernelspec": {
   "display_name": "Python 3 (ipykernel)",
   "language": "python",
   "name": "python3"
  },
  "language_info": {
   "codemirror_mode": {
    "name": "ipython",
    "version": 3
   },
   "file_extension": ".py",
   "mimetype": "text/x-python",
   "name": "python",
   "nbconvert_exporter": "python",
   "pygments_lexer": "ipython3",
   "version": "3.7.11"
  }
 },
 "nbformat": 4,
 "nbformat_minor": 5
}
